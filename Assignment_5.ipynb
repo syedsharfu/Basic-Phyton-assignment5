{
 "cells": [
  {
   "cell_type": "raw",
   "id": "34adf60e-942d-411b-93f6-2c3cea7b4007",
   "metadata": {},
   "source": [
    "1. What does an empty dictionary's code look like?"
   ]
  },
  {
   "cell_type": "raw",
   "id": "320a6f5e-c629-448d-8075-0ee7d54d1a54",
   "metadata": {},
   "source": [
    "An empty dictionary in Python is represented by curly braces {}."
   ]
  },
  {
   "cell_type": "code",
   "execution_count": 4,
   "id": "da71bbf4-71d7-46c9-8bdb-58bc86f90c61",
   "metadata": {},
   "outputs": [],
   "source": [
    "empty_dict = {}\n",
    "empty_dict = dict()"
   ]
  },
  {
   "cell_type": "raw",
   "id": "10976543-85d6-4dfd-9c07-ae54231ff22f",
   "metadata": {},
   "source": [
    "2. What is the value of a dictionary value with the key 'foo' and the value 42?"
   ]
  },
  {
   "cell_type": "raw",
   "id": "e5c029d2-74ce-48f4-bfd4-bd125b3b3a2e",
   "metadata": {},
   "source": [
    "If we have a dictionary with the key 'foo' and the value 42, the dictionary might look like this:\n",
    "my_dict = {'foo': 42}\n",
    "In this dictionary, 'foo' is the key, and 42 is the corresponding value. To access the value associated with the key 'foo', we can use the following syntax:\n",
    "value_of_foo = my_dict['foo']\n",
    "print(value_of_foo)"
   ]
  },
  {
   "cell_type": "code",
   "execution_count": 5,
   "id": "cd44c80e-9082-4d37-a260-2bc47295e89f",
   "metadata": {},
   "outputs": [],
   "source": [
    "my_dict = {'foo': 42}\n"
   ]
  },
  {
   "cell_type": "code",
   "execution_count": 6,
   "id": "7c54f678-03f4-4277-9294-da6bdbafbb73",
   "metadata": {},
   "outputs": [
    {
     "name": "stdout",
     "output_type": "stream",
     "text": [
      "42\n"
     ]
    }
   ],
   "source": [
    "value_of_foo = my_dict['foo']\n",
    "print(value_of_foo)"
   ]
  },
  {
   "cell_type": "raw",
   "id": "972b7e7a-d938-494d-a4db-9a88e2a14e16",
   "metadata": {},
   "source": [
    "3. What is the most significant distinction between a dictionary and a list?"
   ]
  },
  {
   "cell_type": "raw",
   "id": "c32ddba1-e08c-4cef-b491-670920f5fd80",
   "metadata": {},
   "source": [
    "Data Storage:List: Ordered collection of elements.\n",
    "Elements are stored in a specific order, and each element is assigned an index (position).\n",
    "Access elements by their index.\n",
    "Syntax: my_list = [1, 2, 3]\n",
    "Dictionary: Unordered collection of key-value pairs.\n",
    "Elements are stored as key-value pairs, and each element is accessed by its unique key.\n",
    "Access elements by their keys.\n",
    "Syntax: my_dict = {'key1': 'value1', 'key2': 'value2'}\n",
    "Accessing Elements:List: Access elements by index, which is an integer.\n",
    "Example: my_list[1] accesses the second element of the list.\n",
    "Dictionary: Access elements by key, which can be any immutable data type (e.g., string, number, tuple).\n",
    "Example: my_dict['key2'] accesses the value associated with the key 'key2'.\n",
    "Mutability: List: Lists are mutable. You can modify, add, or remove elements after the list is created.\n",
    "Example: my_list[0] = 99 changes the first element of the list.\n",
    "Dictionary: Dictionaries are mutable. You can modify, add, or remove key-value pairs after the dictionary is created.\n",
    "Example: my_dict['new_key'] = 'new_value' adds a new key-value pair to the dictionary.\n",
    "Syntax: List: Defined using square brackets: my_list = [1, 2, 3]\n",
    "Dictionary: Defined using curly braces with key-value pairs: my_dict = {'key1': 'value1', 'key2': 'value2'}\n",
    "the key distinction is that lists are ordered collections accessed by index, while dictionaries are unordered collections accessed by key. Dictionaries provide a mapping between keys and values, allowing for more flexible data structures with meaningful associations between elements."
   ]
  },
  {
   "cell_type": "raw",
   "id": "4b3c7b08-d45f-4071-b9c9-d1edb87f0741",
   "metadata": {},
   "source": [
    "4. What happens if you try to access spam['foo'] if spam is {'bar': 100}?"
   ]
  },
  {
   "cell_type": "raw",
   "id": "3665b00c-3db9-45f2-894d-620f57d0781c",
   "metadata": {},
   "source": [
    "\n",
    "If you try to access spam['foo'] and spam is {'bar': 100}, a KeyError will be raised. This is because the key 'foo' does not exist in the dictionary spam"
   ]
  },
  {
   "cell_type": "code",
   "execution_count": 10,
   "id": "2443ab47-ed92-4dda-9cce-dc378e0a06e4",
   "metadata": {},
   "outputs": [
    {
     "ename": "KeyError",
     "evalue": "'foo'",
     "output_type": "error",
     "traceback": [
      "\u001b[0;31m---------------------------------------------------------------------------\u001b[0m",
      "\u001b[0;31mKeyError\u001b[0m                                  Traceback (most recent call last)",
      "Cell \u001b[0;32mIn [10], line 2\u001b[0m\n\u001b[1;32m      1\u001b[0m spam \u001b[38;5;241m=\u001b[39m {\u001b[38;5;124m'\u001b[39m\u001b[38;5;124mbar\u001b[39m\u001b[38;5;124m'\u001b[39m: \u001b[38;5;241m100\u001b[39m}\n\u001b[0;32m----> 2\u001b[0m value \u001b[38;5;241m=\u001b[39m \u001b[43mspam\u001b[49m\u001b[43m[\u001b[49m\u001b[38;5;124;43m'\u001b[39;49m\u001b[38;5;124;43mfoo\u001b[39;49m\u001b[38;5;124;43m'\u001b[39;49m\u001b[43m]\u001b[49m\n",
      "\u001b[0;31mKeyError\u001b[0m: 'foo'"
     ]
    }
   ],
   "source": [
    "spam = {'bar': 100}\n",
    "value = spam['foo']"
   ]
  },
  {
   "cell_type": "raw",
   "id": "2ba923ed-f476-47a6-8f53-45dbb37d47e1",
   "metadata": {},
   "source": [
    "5. If a dictionary is stored in spam, what is the difference between the expressions 'cat' in spam and 'cat' in spam.keys()?"
   ]
  },
  {
   "cell_type": "raw",
   "id": "cdb24d6a-e942-47d9-bee4-135cf7438317",
   "metadata": {},
   "source": [
    "In Python, the expressions 'cat' in spam and 'cat' in spam.keys() both check for the existence of the key 'cat' in the dictionary spam, but they differ in their implementation and efficiency.\n",
    "'cat' in spam: This expression checks whether the key 'cat' exists in the dictionary spam.\n",
    "It directly checks if the specified key is present in the dictionary.\n",
    "'cat' in spam.keys(): This expression also checks whether the key 'cat' exists in the dictionary spam.\n",
    "However, it first retrieves a list of all keys in the dictionary using the keys() method and then checks if 'cat' is in that list.\n",
    "It involves creating an additional list of keys, which can be less efficient than the direct membership check."
   ]
  },
  {
   "cell_type": "raw",
   "id": "8bfc8e41-0d03-4b25-9936-769f02813b12",
   "metadata": {},
   "source": [
    "6. If a dictionary is stored in spam, what is the difference between the expressions 'cat' in spam and 'cat' in spam.values()?"
   ]
  },
  {
   "cell_type": "raw",
   "id": "e2afa5ff-0df8-4f6b-b533-d1369c413341",
   "metadata": {},
   "source": [
    "cat' in spam: This expression checks whether the value 'cat' exists in the values of the dictionary spam.\n",
    "It directly checks if the specified value is present in any of the dictionary's values.\n",
    "'cat' in spam.values(): This expression checks whether the value 'cat' exists in the values of the dictionary spam.\n",
    "It directly checks if the specified value is present in the list of values obtained using the values() method.\n",
    "It involves creating an additional list of values, which can be less efficient than the direct membership check."
   ]
  },
  {
   "cell_type": "raw",
   "id": "2c92cb71-17f1-43e6-9d56-90e5a3776c87",
   "metadata": {},
   "source": [
    "7. What is a shortcut for the following code?\n",
    "if 'color' not in spam:\n",
    "spam['color'] = 'black'\n"
   ]
  },
  {
   "cell_type": "code",
   "execution_count": 14,
   "id": "7ccd31d1-f4cb-48eb-88df-4e3789579b5d",
   "metadata": {},
   "outputs": [
    {
     "data": {
      "text/plain": [
       "'black'"
      ]
     },
     "execution_count": 14,
     "metadata": {},
     "output_type": "execute_result"
    }
   ],
   "source": [
    "if 'color' not in spam:\n",
    "    spam['color'] = 'black'\n",
    "spam.setdefault('color', 'black')\n"
   ]
  },
  {
   "cell_type": "raw",
   "id": "2617e663-4167-4c25-bd70-facfac05e198",
   "metadata": {},
   "source": [
    "8. How do you \"pretty print\" dictionary values using which module and function?"
   ]
  },
  {
   "cell_type": "raw",
   "id": "994d47d4-7e5b-415a-9bcc-fa327a8855da",
   "metadata": {},
   "source": [
    "To \"pretty print\" dictionary values in Python, you can use the pprint module from the pprint (pretty-print) standard library. The pprint module provides a pprint() function that produces a more readable and formatted output for dictionaries and other data structures.\n",
    "Both pprint() and pp() are part of the pprint module, and you can choose the one that fits your preferences and requirements."
   ]
  },
  {
   "cell_type": "code",
   "execution_count": null,
   "id": "a6585fcf-2a00-41c5-b833-29974c6eb542",
   "metadata": {},
   "outputs": [],
   "source": []
  }
 ],
 "metadata": {
  "kernelspec": {
   "display_name": "Python 3 (ipykernel)",
   "language": "python",
   "name": "python3"
  },
  "language_info": {
   "codemirror_mode": {
    "name": "ipython",
    "version": 3
   },
   "file_extension": ".py",
   "mimetype": "text/x-python",
   "name": "python",
   "nbconvert_exporter": "python",
   "pygments_lexer": "ipython3",
   "version": "3.10.6"
  }
 },
 "nbformat": 4,
 "nbformat_minor": 5
}
